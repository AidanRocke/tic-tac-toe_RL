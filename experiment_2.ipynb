{
  "cells": [
    {
      "cell_type": "markdown",
      "source": [
        "## Investigating two stochastic approaches to playing tic-tac-toe:\n",
        "### 1. Naive stochastician: credit assignment is based on batch values\n",
        "### 2. Clever stochastician: credit assignment is based on adversarial selection\n",
        "### 3. Comparison of naive vs clever stochasticians\n",
        "\n",
        "#### Note 1: One of the things we'll investigate is the existence of a first-mover advantage i.e. the first mover can afford to be careless about their first move whereas the second player can't.\n",
        "\n#### Note 2: Some experiments will be duplicated so the notebook is self-contained. "
      ],
      "metadata": {
        "collapsed": false,
        "outputHidden": false,
        "inputHidden": false
      }
    },
    {
      "cell_type": "code",
      "source": [
        "## load everything:\n",
        "\n",
        "import numpy as np\n",
        "from naive_stochastician import naive_stochastician\n",
        "from clever_stochastician import clever_stochastician\n",
        "\n",
        "### there are four possible permutations where player A moves first\n",
        "### and so we'll use a 2-d boolean vector(ex. [0,1]) to denote the\n",
        "### combination of interest:\n",
        "## 1. naive(player A) vs naive(player B)\n",
        "## 2. clever(player A) vs clever(player B)\n",
        "## 3. naive(player A) vs clever(player B)\n",
        "## 4. clever(player A) vs naive(player B)\n",
        "\n",
        "def game_simulation(player_combo,num_games,random_start,depth,gamma):\n",
        "\n",
        "    outcomes = np.zeros(num_games)\n",
        "    \n",
        "    initial_conditions = []\n",
        "    \n",
        "    for i in range(num_games):\n",
        "        \n",
        "        game = 1.0\n",
        "        \n",
        "        Z = np.zeros((3,3))\n",
        "        X, O = np.random.choice(np.arange(9),2,replace=False)\n",
        "        Z[int(X/3)][X % 3] = 1.0\n",
        "        \n",
        "        if random_start == 1.0:\n",
        "            ## the second player plays randomly:\n",
        "            Z[int(O/3)][O % 3] = -1.0\n",
        "            \n",
        "        else:\n",
        "            ## the second player doesn't play randomly:\n",
        "            if player_combo[1] == 1.0:\n",
        "                P2 = clever_stochastician(-1.0*Z,depth,gamma)\n",
        "                Z += -1.0*P2.move()\n",
        "            else:   \n",
        "                P2 = naive_stochastician(-1.0*Z,depth,gamma)\n",
        "                Z += -1.0*P2.move()\n",
        "        \n",
        "        initial_conditions.append(np.copy(Z))\n",
        "    \n",
        "        while game == 1.0:\n",
        "            ## player A move:\n",
        "            if player_combo[0] == 1.0:\n",
        "                P1 = clever_stochastician(Z,depth,gamma)\n",
        "                Z += P1.move()\n",
        "            else:  \n",
        "                P1 = naive_stochastician(Z,depth,gamma)\n",
        "                Z += P1.move()\n",
        "            \n",
        "            if P1.score(Z)[1] != 0.0:\n",
        "                outcomes[i] = P1.score(Z)[1]\n",
        "                \n",
        "                game = 0.0\n",
        "                \n",
        "                break\n",
        "            \n",
        "            ## player B move:\n",
        "            if player_combo[1] == 1.0:\n",
        "                P2 = clever_stochastician(-1.0*Z,depth,gamma)\n",
        "                Z += -1.0*P2.move()\n",
        "            else:   \n",
        "                P2 = naive_stochastician(-1.0*Z,depth,gamma)\n",
        "                Z += -1.0*P2.move()\n",
        "            \n",
        "    return initial_conditions, outcomes"
      ],
      "outputs": [],
      "execution_count": 1,
      "metadata": {}
    },
    {
      "cell_type": "markdown",
      "source": [
        "## 1. Analysis of first mover advantage for naive stochastician:\n",
        "### 1. First move of player B is random.\n",
        "### 2. First move of player B is non-random."
      ],
      "metadata": {
        "collapsed": false,
        "outputHidden": false,
        "inputHidden": false
      }
    },
    {
      "cell_type": "code",
      "source": [
        "player_combo = np.array([0.0,0.0])\n",
        "num_games = 100\n",
        "random_start = 1.0\n",
        "depth = 5\n",
        "gamma = 0.9\n",
        "\n_, outcomes = game_simulation(player_combo,num_games,random_start,depth,gamma)"
      ],
      "outputs": [],
      "execution_count": 2,
      "metadata": {
        "collapsed": false,
        "outputHidden": false,
        "inputHidden": false
      }
    },
    {
      "cell_type": "code",
      "source": [
        "np.mean(outcomes == 1.0), np.mean(outcomes == 0.5),np.mean(outcomes == -1.0) ## win, draw, loss percentages"
      ],
      "outputs": [
        {
          "output_type": "execute_result",
          "execution_count": 3,
          "data": {
            "text/plain": [
              "(0.69, 0.28, 0.03)"
            ]
          },
          "metadata": {}
        }
      ],
      "execution_count": 3,
      "metadata": {
        "collapsed": false,
        "outputHidden": false,
        "inputHidden": false
      }
    },
    {
      "cell_type": "code",
      "source": [
        "0.69/0.03"
      ],
      "outputs": [
        {
          "output_type": "execute_result",
          "execution_count": 7,
          "data": {
            "text/plain": [
              "23.0"
            ]
          },
          "metadata": {}
        }
      ],
      "execution_count": 7,
      "metadata": {
        "collapsed": false,
        "outputHidden": false,
        "inputHidden": false
      }
    },
    {
      "cell_type": "markdown",
      "source": [
        "## So there appears to be a clear first mover advantage. Now, what if the second move is non-random?"
      ],
      "metadata": {}
    },
    {
      "cell_type": "code",
      "source": [
        "player_combo = np.array([0.0,0.0])\n",
        "num_games = 100\n",
        "random_start = 0.0\n",
        "depth = 5\n",
        "gamma = 0.9\n",
        "\n_, outcomes = game_simulation(player_combo,num_games,random_start,depth,gamma)"
      ],
      "outputs": [],
      "execution_count": 4,
      "metadata": {
        "collapsed": false,
        "outputHidden": false,
        "inputHidden": false
      }
    },
    {
      "cell_type": "code",
      "source": [
        "np.mean(outcomes == 1.0), np.mean(outcomes == 0.5),np.mean(outcomes == -1.0) ## win, draw, loss percentages"
      ],
      "outputs": [
        {
          "output_type": "execute_result",
          "execution_count": 6,
          "data": {
            "text/plain": [
              "(0.57, 0.43, 0.0)"
            ]
          },
          "metadata": {}
        }
      ],
      "execution_count": 6,
      "metadata": {
        "collapsed": false,
        "outputHidden": false,
        "inputHidden": false
      }
    },
    {
      "cell_type": "markdown",
      "source": [
        "### Interestingly, non-random play appears to decrease the probability of losses at the expense of win percentages. In some sense the outcomes are more predictable. "
      ],
      "metadata": {}
    },
    {
      "cell_type": "markdown",
      "source": [
        "## 2. Analysis of first mover advantage for clever stochastician:\n",
        "### 1. First move of player B is random.\n",
        "### 2. First move of player B is non-random."
      ],
      "metadata": {}
    },
    {
      "cell_type": "code",
      "source": [
        "player_combo = np.array([1.0,1.0])\n",
        "num_games = 100\n",
        "random_start = 1.0\n",
        "depth = 5\n",
        "gamma = 0.9\n",
        "\n_, outcomes = game_simulation(player_combo,num_games,random_start,depth,gamma)"
      ],
      "outputs": [],
      "execution_count": 8,
      "metadata": {
        "collapsed": false,
        "outputHidden": false,
        "inputHidden": false
      }
    },
    {
      "cell_type": "code",
      "source": [
        "np.mean(outcomes == 1.0), np.mean(outcomes == 0.5),np.mean(outcomes == -1.0) ## win, draw, loss percentages"
      ],
      "outputs": [
        {
          "output_type": "execute_result",
          "execution_count": 9,
          "data": {
            "text/plain": [
              "(0.57, 0.39, 0.04)"
            ]
          },
          "metadata": {}
        }
      ],
      "execution_count": 9,
      "metadata": {
        "collapsed": false,
        "outputHidden": false,
        "inputHidden": false
      }
    },
    {
      "cell_type": "code",
      "source": [
        "np.mean(outcomes == 1.0)/np.mean(outcomes == -1.0)"
      ],
      "outputs": [
        {
          "output_type": "execute_result",
          "execution_count": 10,
          "data": {
            "text/plain": [
              "14.249999999999998"
            ]
          },
          "metadata": {}
        }
      ],
      "execution_count": 10,
      "metadata": {
        "collapsed": false,
        "outputHidden": false,
        "inputHidden": false
      }
    },
    {
      "cell_type": "code",
      "source": [
        "player_combo = np.array([1.0,1.0])\n",
        "num_games = 100\n",
        "random_start = 0.0\n",
        "depth = 5\n",
        "gamma = 0.9\n",
        "\n_, outcomes = game_simulation(player_combo,num_games,random_start,depth,gamma)"
      ],
      "outputs": [],
      "execution_count": 11,
      "metadata": {
        "collapsed": false,
        "outputHidden": false,
        "inputHidden": false
      }
    },
    {
      "cell_type": "code",
      "source": [
        "np.mean(outcomes == 1.0), np.mean(outcomes == 0.5),np.mean(outcomes == -1.0) ## win, draw, loss percentages"
      ],
      "outputs": [
        {
          "output_type": "execute_result",
          "execution_count": 13,
          "data": {
            "text/plain": [
              "(0.39, 0.61, 0.0)"
            ]
          },
          "metadata": {}
        }
      ],
      "execution_count": 13,
      "metadata": {
        "collapsed": false,
        "outputHidden": false,
        "inputHidden": false
      }
    },
    {
      "cell_type": "markdown",
      "source": [
        "## 3. Naive stochastician vs Clever stochastician where naive moves first:\n",
        "### 1. First move of player B is random.\n",
        "### 2. First move of player B is non-random."
      ],
      "metadata": {}
    },
    {
      "cell_type": "code",
      "source": [
        "player_combo = np.array([0.0,1.0])\n",
        "num_games = 100\n",
        "random_start = 1.0\n",
        "depth = 5\n",
        "gamma = 0.9\n",
        "\n_, outcomes = game_simulation(player_combo,num_games,random_start,depth,gamma)"
      ],
      "outputs": [],
      "execution_count": 14,
      "metadata": {
        "collapsed": false,
        "outputHidden": false,
        "inputHidden": false
      }
    },
    {
      "cell_type": "code",
      "source": [
        "np.mean(outcomes == 1.0), np.mean(outcomes == 0.5),np.mean(outcomes == -1.0) ## win, draw, loss percentages"
      ],
      "outputs": [
        {
          "output_type": "execute_result",
          "execution_count": 15,
          "data": {
            "text/plain": [
              "(0.67, 0.21, 0.12)"
            ]
          },
          "metadata": {}
        }
      ],
      "execution_count": 15,
      "metadata": {
        "collapsed": false,
        "outputHidden": false,
        "inputHidden": false
      }
    },
    {
      "cell_type": "code",
      "source": [
        "np.mean(outcomes == 1.0)/np.mean(outcomes == -1.0)"
      ],
      "outputs": [
        {
          "output_type": "execute_result",
          "execution_count": 16,
          "data": {
            "text/plain": [
              "5.583333333333334"
            ]
          },
          "metadata": {}
        }
      ],
      "execution_count": 16,
      "metadata": {
        "collapsed": false,
        "outputHidden": false,
        "inputHidden": false
      }
    },
    {
      "cell_type": "markdown",
      "source": [
        "### This is a pretty good win percentage. "
      ],
      "metadata": {}
    },
    {
      "cell_type": "code",
      "source": [
        "player_combo = np.array([0.0,1.0])\n",
        "num_games = 100\n",
        "random_start = 0.0\n",
        "depth = 5\n",
        "gamma = 0.9\n",
        "\n_, outcomes = game_simulation(player_combo,num_games,random_start,depth,gamma)"
      ],
      "outputs": [],
      "execution_count": 17,
      "metadata": {
        "collapsed": false,
        "outputHidden": false,
        "inputHidden": false
      }
    },
    {
      "cell_type": "code",
      "source": [
        "np.mean(outcomes == 1.0), np.mean(outcomes == 0.5),np.mean(outcomes == -1.0) ## win, draw, loss percentages"
      ],
      "outputs": [
        {
          "output_type": "execute_result",
          "execution_count": 18,
          "data": {
            "text/plain": [
              "(0.71, 0.0, 0.29)"
            ]
          },
          "metadata": {}
        }
      ],
      "execution_count": 18,
      "metadata": {
        "collapsed": false,
        "outputHidden": false,
        "inputHidden": false
      }
    },
    {
      "cell_type": "code",
      "source": [
        "np.mean(outcomes == 1.0)/np.mean(outcomes == -1.0)"
      ],
      "outputs": [
        {
          "output_type": "execute_result",
          "execution_count": 19,
          "data": {
            "text/plain": [
              "2.4482758620689657"
            ]
          },
          "metadata": {}
        }
      ],
      "execution_count": 19,
      "metadata": {
        "collapsed": false,
        "outputHidden": false,
        "inputHidden": false
      }
    },
    {
      "cell_type": "markdown",
      "source": [
        "### The naive stochastician appears to lack control of the board. "
      ],
      "metadata": {}
    },
    {
      "cell_type": "markdown",
      "source": [
        "## 4. Clever stochastician vs Naive stochastician where clever moves first:\n",
        "### 1. First move of player B is random.\n",
        "### 2. First move of player B is non-random."
      ],
      "metadata": {}
    },
    {
      "cell_type": "code",
      "source": [
        "player_combo = np.array([1.0,0.0])\n",
        "num_games = 100\n",
        "random_start = 1.0\n",
        "depth = 5\n",
        "gamma = 0.9\n",
        "\n_, outcomes = game_simulation(player_combo,num_games,random_start,depth,gamma)"
      ],
      "outputs": [],
      "execution_count": 20,
      "metadata": {
        "collapsed": false,
        "outputHidden": false,
        "inputHidden": false
      }
    },
    {
      "cell_type": "code",
      "source": [
        "np.mean(outcomes == 1.0), np.mean(outcomes == 0.5),np.mean(outcomes == -1.0) ## win, draw, loss percentages"
      ],
      "outputs": [
        {
          "output_type": "execute_result",
          "execution_count": 21,
          "data": {
            "text/plain": [
              "(0.89, 0.06, 0.05)"
            ]
          },
          "metadata": {}
        }
      ],
      "execution_count": 21,
      "metadata": {
        "collapsed": false,
        "outputHidden": false,
        "inputHidden": false
      }
    },
    {
      "cell_type": "code",
      "source": [
        "np.mean(outcomes == 1.0)/np.mean(outcomes == -1.0)"
      ],
      "outputs": [
        {
          "output_type": "execute_result",
          "execution_count": 22,
          "data": {
            "text/plain": [
              "17.8"
            ]
          },
          "metadata": {}
        }
      ],
      "execution_count": 22,
      "metadata": {
        "collapsed": false,
        "outputHidden": false,
        "inputHidden": false
      }
    },
    {
      "cell_type": "markdown",
      "source": [
        "### Now, that's a big win-loss ratio. "
      ],
      "metadata": {}
    },
    {
      "cell_type": "code",
      "source": [
        "player_combo = np.array([1.0,0.0])\n",
        "num_games = 100\n",
        "random_start = 0.0\n",
        "depth = 5\n",
        "gamma = 0.9\n",
        "\n_, outcomes = game_simulation(player_combo,num_games,random_start,depth,gamma)"
      ],
      "outputs": [],
      "execution_count": 26,
      "metadata": {
        "collapsed": false,
        "outputHidden": false,
        "inputHidden": false
      }
    },
    {
      "cell_type": "code",
      "source": [
        "np.mean(outcomes == 1.0), np.mean(outcomes == 0.5),np.mean(outcomes == -1.0) ## win, draw, loss percentages"
      ],
      "outputs": [
        {
          "output_type": "execute_result",
          "execution_count": 27,
          "data": {
            "text/plain": [
              "(0.67, 0.11, 0.22)"
            ]
          },
          "metadata": {}
        }
      ],
      "execution_count": 27,
      "metadata": {
        "collapsed": false,
        "outputHidden": false,
        "inputHidden": false
      }
    },
    {
      "cell_type": "code",
      "source": [
        "np.mean(outcomes == 1.0)/np.mean(outcomes == -1.0)"
      ],
      "outputs": [
        {
          "output_type": "execute_result",
          "execution_count": 28,
          "data": {
            "text/plain": [
              "3.0454545454545454"
            ]
          },
          "metadata": {}
        }
      ],
      "execution_count": 28,
      "metadata": {
        "collapsed": false,
        "outputHidden": false,
        "inputHidden": false
      }
    },
    {
      "cell_type": "markdown",
      "source": [
        "### Clever clearly has an advantage but also loses a surprising number of times. Right now I would rank the algorithms in the following order: naive stochastician, simple player, clever stochastician. "
      ],
      "metadata": {}
    }
  ],
  "metadata": {
    "kernel_info": {
      "name": "python3"
    },
    "kernelspec": {
      "name": "python3",
      "language": "python",
      "display_name": "Python 3"
    },
    "language_info": {
      "name": "python",
      "version": "3.6.1",
      "mimetype": "text/x-python",
      "codemirror_mode": {
        "name": "ipython",
        "version": 3
      },
      "pygments_lexer": "ipython3",
      "nbconvert_exporter": "python",
      "file_extension": ".py"
    },
    "nteract": {
      "version": "0.8.4"
    }
  },
  "nbformat": 4,
  "nbformat_minor": 4
}