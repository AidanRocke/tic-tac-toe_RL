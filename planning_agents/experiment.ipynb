{
  "cells": [
    {
      "cell_type": "markdown",
      "source": [
        "## Test that the Policy Gradient model learns to play tic tac toe: \n",
        "### 1. 1000 (epochs) x 30 (batch size) ~ 30k > 3^9 ~ 20k so the agent will have probably seen every possible board position. Training takes about 6 mins.\n",
        "### 2. learning rate = 0.1"
      ],
      "metadata": {
        "collapsed": false,
        "outputHidden": false,
        "inputHidden": false
      }
    },
    {
      "cell_type": "markdown",
      "source": [
        "## A. Baseline model with zero learning(i.e. learning rate set to zero):"
      ],
      "metadata": {
        "collapsed": false,
        "outputHidden": false,
        "inputHidden": false
      }
    },
    {
      "cell_type": "code",
      "source": [
        "import numpy as np\n",
        "import tensorflow as tf\n",
        "from tic_tac_learning import simulator\n",
        "from tic_tac_pg import policy_gradients\n",
        "from stochastician import stochastician as CS\n",
        "from tic_tac_system import tic_tac_system\n",
        "from evaluation import game_evaluation as G\n",
        "\n",
        "G = G()\n",
        "\n",
        "tf.reset_default_graph()\n",
        "\n",
        "pg_model = policy_gradients(lr=0.0001,seed=42,batch_size=10,max_iter=5)\n",
        "\n",
        "tic_tac = tic_tac_system(G,model=pg_model,opponent=CS,epochs=2000,depth=5,gamma=0.9)\n",
        "\nscores = simulator(tic_tac)"
      ],
      "outputs": [
        {
          "output_type": "stream",
          "name": "stdout",
          "text": [
            "2.258125e-09\n",
            "0.0001016463\n",
            "0.00023814673\n",
            "0.0003278011\n",
            "0.00038932113\n",
            "0.00043579936\n",
            "0.00047071226\n",
            "0.000499207\n",
            "0.0005225516\n",
            "0.00054311403\n",
            "0.00056131586\n",
            "0.0005774403\n",
            "0.00059151254\n",
            "0.000604599\n",
            "0.00061690283\n",
            "0.0006287181\n",
            "0.0006398982\n",
            "0.0006501407\n",
            "0.00066048215\n",
            "0.0006703726\n",
            "0.00067995914\n",
            "0.00068888796\n",
            "0.0006979348\n",
            "0.0007067428\n",
            "0.0007155085\n",
            "0.00072387053\n",
            "0.00073245075\n",
            "0.00074080075\n",
            "0.0007492999\n",
            "0.0007573665\n",
            "0.0007654839\n",
            "0.0007734059\n",
            "0.0007815968\n",
            "0.00078965764\n",
            "0.00079747644\n",
            "0.0008055262\n",
            "0.00081337284\n",
            "0.0008214663\n",
            "0.0008291189\n",
            "0.0008373872\n",
            "0.00084532687\n",
            "0.0008534262\n",
            "0.0008612352\n",
            "0.0008690744\n",
            "0.00087709416\n",
            "0.000884842\n",
            "0.00089251227\n",
            "0.000900342\n",
            "0.00090819236\n",
            "0.0009155891\n",
            "0.00092321914\n",
            "0.00093081914\n",
            "0.00093824667\n",
            "0.0009461601\n",
            "0.0009539782\n",
            "0.0009615416\n",
            "0.00096914254\n",
            "0.0009769733\n",
            "0.0009847865\n",
            "0.0009925424\n",
            "0.000999995\n",
            "0.0010077872\n",
            "0.0010156026\n",
            "0.0010232655\n",
            "0.0010311033\n",
            "0.0010389534\n",
            "0.0010464862\n",
            "0.0010540676\n",
            "0.0010614218\n",
            "0.0010690661\n",
            "0.0010768747\n",
            "0.0010845322\n",
            "0.0010921913\n",
            "0.0010997833\n",
            "0.0011073035\n",
            "0.0011148751\n",
            "0.0011225414\n",
            "0.0011301922\n",
            "0.0011378429\n",
            "0.0011453714\n",
            "0.001152994\n",
            "0.0011609527\n",
            "0.0011687361\n",
            "0.0011768643\n",
            "0.0011849827\n",
            "0.0011926289\n",
            "0.0012002056\n",
            "0.0012082723\n",
            "0.0012158005\n",
            "0.0012235681\n",
            "0.0012311372\n",
            "0.0012390249\n",
            "0.0012466486\n",
            "0.0012541964\n",
            "0.0012616625\n",
            "0.0012690678\n",
            "0.0012765959\n",
            "0.0012844403\n",
            "0.0012921174\n",
            "0.0012992857\n",
            "0.0013067345\n",
            "0.0013145219\n",
            "0.0013222658\n",
            "0.0013299185\n",
            "0.0013372282\n",
            "0.0013451955\n",
            "0.0013528877\n",
            "0.0013607417\n",
            "0.0013682861\n",
            "0.0013756768\n",
            "0.0013831374\n",
            "0.0013902965\n",
            "0.0013977083\n",
            "0.0014054789\n",
            "0.0014134068\n",
            "0.0014211579\n",
            "0.0014285253\n",
            "0.001436206\n",
            "0.0014437618\n",
            "0.0014513691\n",
            "0.0014590024\n",
            "0.0014665872\n",
            "0.0014739031\n",
            "0.001481336\n",
            "0.0014887089\n",
            "0.0014963675\n",
            "0.0015038718\n",
            "0.00151128\n",
            "0.001518763\n",
            "0.0015262668\n",
            "0.0015337508\n",
            "0.0015411834\n",
            "0.0015493056\n",
            "0.0015570591\n",
            "0.001564541\n",
            "0.001572097\n",
            "0.0015796055\n",
            "0.0015869979\n",
            "0.0015943642\n",
            "0.0016019023\n",
            "0.0016094667\n",
            "0.0016168494\n",
            "0.0016244233\n",
            "0.0016320361\n",
            "0.0016397575\n",
            "0.0016474408\n",
            "0.0016547416\n",
            "0.0016624298\n",
            "0.0016696951\n",
            "0.0016769533\n",
            "0.0016841796\n",
            "0.0016915514\n",
            "0.0016992522\n",
            "0.0017067598\n",
            "0.001714346\n",
            "0.0017218407\n",
            "0.001729611\n",
            "0.0017371718\n",
            "0.0017446801\n",
            "0.0017521142\n",
            "0.0017597029\n",
            "0.0017673594\n",
            "0.0017745054\n",
            "0.0017821922\n",
            "0.0017898811\n",
            "0.0017972278\n",
            "0.0018049\n",
            "0.0018121521\n",
            "0.0018194868\n",
            "0.0018270484\n",
            "0.0018344163\n",
            "0.0018418886\n",
            "0.0018492418\n",
            "0.001857343\n",
            "0.001865122\n",
            "0.0018726707\n",
            "0.0018803115\n",
            "0.0018882422\n",
            "0.0018961583\n",
            "0.0019040973\n",
            "0.0019114342\n",
            "0.0019192526\n",
            "0.0019269987\n",
            "0.0019344424\n",
            "0.0019422467\n",
            "0.0019499655\n",
            "0.0019576782\n",
            "0.0019653635\n",
            "0.0019730546\n",
            "0.0019807972\n",
            "0.0019886068\n",
            "0.0019965402\n",
            "0.002004311\n",
            "0.0020125571\n",
            "0.0020204177\n",
            "0.0020282043\n",
            "0.0020358753\n",
            "0.0020436654\n",
            "0.0020514617\n",
            "0.0020593628\n"
          ]
        },
        {
          "output_type": "stream",
          "name": "stderr",
          "text": [
            "/Users/aidanrockea/anaconda/lib/python3.6/site-packages/numpy/core/fromnumeric.py:2957: RuntimeWarning: Mean of empty slice.\n",
            "  out=out, **kwargs)\n",
            "/Users/aidanrockea/anaconda/lib/python3.6/site-packages/numpy/core/_methods.py:80: RuntimeWarning: invalid value encountered in double_scalars\n",
            "  ret = ret.dtype.type(ret / rcount)\n",
            "/Users/aidanrockea/anaconda/lib/python3.6/site-packages/numpy/core/_methods.py:26: RuntimeWarning: invalid value encountered in reduce\n",
            "  return umr_maximum(a, axis, None, out, keepdims)\n"
          ]
        }
      ],
      "execution_count": 1,
      "metadata": {
        "collapsed": false,
        "outputHidden": false,
        "inputHidden": false
      }
    },
    {
      "cell_type": "markdown",
      "source": [
        "## Analyse win-rate progression: "
      ],
      "metadata": {}
    },
    {
      "cell_type": "code",
      "source": [
        "learning = np.zeros(10)\n",
        "\n",
        "for i in range(10):\n",
        "    \n",
        "        learning[i] = np.mean((scores[i*100:(i+1)*100]+5.0)/10)"
      ],
      "outputs": [],
      "execution_count": 2,
      "metadata": {
        "collapsed": false,
        "outputHidden": false,
        "inputHidden": false
      }
    },
    {
      "cell_type": "code",
      "source": [
        "%matplotlib inline\n",
        "import matplotlib.pyplot as plt\n",
        "\n",
        "plt.style.use('ggplot')\n",
        "\n",
        "plt.figure(figsize=(10,10)) \n",
        "\n",
        "plt.plot(learning,color='steelblue')\n",
        "\n",
        "plt.title('win-rate over time')\n",
        "plt.xlabel('hundreds of epochs')\n",
        "plt.ylabel('win percentage')\n",
        "\nplt.show()"
      ],
      "outputs": [
        {
          "output_type": "display_data",
          "data": {
            "text/plain": [
              "<Figure size 720x720 with 1 Axes>"
            ],
            "image/png": "[encoded data removed]"
          },
          "metadata": {}
        }
      ],
      "execution_count": 3,
      "metadata": {
        "collapsed": false,
        "outputHidden": false,
        "inputHidden": false
      }
    },
    {
      "cell_type": "code",
      "source": [
        "np.mean(learning[:5]),np.mean(learning[5:10])"
      ],
      "outputs": [
        {
          "output_type": "execute_result",
          "execution_count": 4,
          "data": {
            "text/plain": [
              "(0.702, 0.718)"
            ]
          },
          "metadata": {}
        }
      ],
      "execution_count": 4,
      "metadata": {
        "collapsed": false,
        "outputHidden": false,
        "inputHidden": false
      }
    },
    {
      "cell_type": "markdown",
      "source": [
        "## The win-rate converges to 87% which is pretty good. "
      ],
      "metadata": {}
    },
    {
      "cell_type": "markdown",
      "source": [
        "## B. Using simple softmax probability calculations: "
      ],
      "metadata": {}
    },
    {
      "cell_type": "code",
      "source": [
        "import numpy as np\n",
        "import tensorflow as tf\n",
        "from tic_tac_learning import simulator\n",
        "from tic_tac_pg import policy_gradients\n",
        "from stochastician import stochastician as CS\n",
        "from tic_tac_system import tic_tac_system\n",
        "from evaluation import game_evaluation as G\n",
        "\n",
        "tf.reset_default_graph()\n",
        "\n",
        "G = G()\n",
        "\n",
        "pg_model = policy_gradients(lr=0.01,seed=42,batch_size=30)\n",
        "\n",
        "tic_tac = tic_tac_system(G,model=pg_model,opponent=CS,epochs=2000,depth=5,gamma=0.9)\n",
        "\nscores = simulator(tic_tac)"
      ],
      "outputs": [],
      "execution_count": null,
      "metadata": {
        "collapsed": false,
        "outputHidden": false,
        "inputHidden": false
      }
    },
    {
      "cell_type": "markdown",
      "source": [
        "## Analyse the win-rate progression: "
      ],
      "metadata": {}
    },
    {
      "cell_type": "code",
      "source": [
        "learning = np.zeros(20)\n",
        "\n",
        "for i in range(20):\n",
        "    \n",
        "    learning[i] = np.mean((scores[i*100:(i+1)*100]+5.0)/10)"
      ],
      "outputs": [],
      "execution_count": null,
      "metadata": {
        "collapsed": false,
        "outputHidden": false,
        "inputHidden": false
      }
    },
    {
      "cell_type": "code",
      "source": [
        "%matplotlib inline\n",
        "import matplotlib.pyplot as plt\n",
        "\n",
        "plt.style.use('ggplot')\n",
        "\n",
        "plt.figure(figsize=(10,10)) \n",
        "\n",
        "plt.plot(learning,color='steelblue')\n",
        "\n",
        "plt.title('win-rate over time')\n",
        "plt.xlabel('hundreds of epochs')\n",
        "plt.ylabel('win percentage')\n",
        "\nplt.show()"
      ],
      "outputs": [],
      "execution_count": null,
      "metadata": {
        "collapsed": false,
        "outputHidden": false,
        "inputHidden": false
      }
    },
    {
      "cell_type": "code",
      "source": [
        "np.mean(learning[:5]), np.mean(learning[5:10]),np.mean(learning[10:15]),np.mean(learning[15:20])"
      ],
      "outputs": [],
      "execution_count": null,
      "metadata": {
        "collapsed": false,
        "outputHidden": false,
        "inputHidden": false
      }
    },
    {
      "cell_type": "markdown",
      "source": [
        "### The win rate appears to converge to 74% and then it starts to go down a bit. Perhaps a decreasing learning rate might help. "
      ],
      "metadata": {}
    }
  ],
  "metadata": {
    "kernel_info": {
      "name": "python3"
    },
    "kernelspec": {
      "name": "python3",
      "language": "python",
      "display_name": "Python 3"
    },
    "language_info": {
      "name": "python",
      "version": "3.6.1",
      "mimetype": "text/x-python",
      "codemirror_mode": {
        "name": "ipython",
        "version": 3
      },
      "pygments_lexer": "ipython3",
      "nbconvert_exporter": "python",
      "file_extension": ".py"
    },
    "nteract": {
      "version": "0.11.4"
    }
  },
  "nbformat": 4,
  "nbformat_minor": 4
}