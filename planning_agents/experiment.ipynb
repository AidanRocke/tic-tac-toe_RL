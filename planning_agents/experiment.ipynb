{
  "cells": [
    {
      "cell_type": "markdown",
      "source": [
        "## Test that the Policy Gradient model learns to play tic tac toe: \n",
        "### 1. 2000 (epochs) x 30 (batch size) > 2*3^9 so the agent will have probably seen every possible board position. Training takes about 6 mins.\n",
        "### 2. learning rate = 0.1"
      ],
      "metadata": {
        "collapsed": false,
        "outputHidden": false,
        "inputHidden": false
      }
    },
    {
      "cell_type": "markdown",
      "source": [
        "## A. Baseline model with zero learning(i.e. learning rate set to zero):"
      ],
      "metadata": {
        "collapsed": false,
        "outputHidden": false,
        "inputHidden": false
      }
    },
    {
      "cell_type": "code",
      "source": [
        "import numpy as np\n",
        "from tic_tac_learning import simulator\n",
        "from tic_tac_pg import policy_gradients\n",
        "from clever_stochastician import clever_stochastician as CS\n",
        "from tic_tac_system import tic_tac_system\n",
        "from evaluation import game_evaluation as G\n",
        "\n",
        "G = G()\n",
        "\n",
        "pg_model = policy_gradients(lr=0.001,seed=42,batch_size=30,max_iter=5)\n",
        "\n",
        "tic_tac = tic_tac_system(G,model=pg_model,opponent=CS,epochs=2000,depth=5,gamma=0.9)\n",
        "\nscores = simulator(tic_tac)"
      ],
      "outputs": [],
      "execution_count": null,
      "metadata": {
        "collapsed": false,
        "outputHidden": false,
        "inputHidden": false
      }
    },
    {
      "cell_type": "markdown",
      "source": [
        "## Analyse win-rate progression: "
      ],
      "metadata": {}
    },
    {
      "cell_type": "code",
      "source": [
        "learning = np.zeros(20)\n",
        "\n",
        "for i in range(20):\n",
        "    \n",
        "    learning[i] = np.mean((scores[i*100:(i+1)*100]+5.0)/10)"
      ],
      "outputs": [],
      "execution_count": null,
      "metadata": {
        "collapsed": false,
        "outputHidden": false,
        "inputHidden": false
      }
    },
    {
      "cell_type": "code",
      "source": [
        "%matplotlib inline\n",
        "import matplotlib.pyplot as plt\n",
        "\n",
        "plt.style.use('ggplot')\n",
        "\n",
        "plt.figure(figsize=(10,10)) \n",
        "\n",
        "plt.plot(learning,color='steelblue')\n",
        "\n",
        "plt.title('win-rate over time')\n",
        "plt.xlabel('hundreds of epochs')\n",
        "plt.ylabel('win percentage')\n",
        "\nplt.show()"
      ],
      "outputs": [],
      "execution_count": null,
      "metadata": {
        "collapsed": false,
        "outputHidden": false,
        "inputHidden": false
      }
    },
    {
      "cell_type": "code",
      "source": [
        "np.mean(learning)"
      ],
      "outputs": [],
      "execution_count": null,
      "metadata": {
        "collapsed": false,
        "outputHidden": false,
        "inputHidden": false
      }
    },
    {
      "cell_type": "markdown",
      "source": [
        "## The win-rate is about 56% which is unimpressive. But, zero learning is going on so this is to be expected. "
      ],
      "metadata": {}
    },
    {
      "cell_type": "markdown",
      "source": [
        "## B. Using simple softmax probability calculations: "
      ],
      "metadata": {}
    },
    {
      "cell_type": "code",
      "source": [
        "import numpy as np\n",
        "import tensorflow as tf\n",
        "from tic_tac_learning import simulator\n",
        "from tic_tac_pg import policy_gradients\n",
        "from clever_stochastician import clever_stochastician as CS\n",
        "from tic_tac_system import tic_tac_system\n",
        "from evaluation import game_evaluation as G\n",
        "\n",
        "tf.reset_default_graph()\n",
        "\n",
        "G = G()\n",
        "\n",
        "pg_model = policy_gradients(lr=0.01,seed=42,batch_size=30)\n",
        "\n",
        "tic_tac = tic_tac_system(G,model=pg_model,opponent=CS,epochs=2000,depth=5,gamma=0.9)\n",
        "\nscores = simulator(tic_tac)"
      ],
      "outputs": [],
      "execution_count": null,
      "metadata": {
        "collapsed": false,
        "outputHidden": false,
        "inputHidden": false
      }
    },
    {
      "cell_type": "markdown",
      "source": [
        "## Analyse the win-rate progression: "
      ],
      "metadata": {}
    },
    {
      "cell_type": "code",
      "source": [
        "learning = np.zeros(20)\n",
        "\n",
        "for i in range(20):\n",
        "    \n",
        "    learning[i] = np.mean((scores[i*100:(i+1)*100]+5.0)/10)"
      ],
      "outputs": [],
      "execution_count": null,
      "metadata": {
        "collapsed": false,
        "outputHidden": false,
        "inputHidden": false
      }
    },
    {
      "cell_type": "code",
      "source": [
        "%matplotlib inline\n",
        "import matplotlib.pyplot as plt\n",
        "\n",
        "plt.style.use('ggplot')\n",
        "\n",
        "plt.figure(figsize=(10,10)) \n",
        "\n",
        "plt.plot(learning,color='steelblue')\n",
        "\n",
        "plt.title('win-rate over time')\n",
        "plt.xlabel('hundreds of epochs')\n",
        "plt.ylabel('win percentage')\n",
        "\nplt.show()"
      ],
      "outputs": [],
      "execution_count": null,
      "metadata": {
        "collapsed": false,
        "outputHidden": false,
        "inputHidden": false
      }
    },
    {
      "cell_type": "code",
      "source": [
        "np.mean(learning[:5]), np.mean(learning[5:10]),np.mean(learning[10:15]),np.mean(learning[15:20])"
      ],
      "outputs": [],
      "execution_count": null,
      "metadata": {
        "collapsed": false,
        "outputHidden": false,
        "inputHidden": false
      }
    },
    {
      "cell_type": "markdown",
      "source": [
        "### The win rate appears to converge to 74% and then it starts to go down a bit. Perhaps a decreasing learning rate might help. "
      ],
      "metadata": {}
    }
  ],
  "metadata": {
    "kernel_info": {
      "name": "python3"
    },
    "kernelspec": {
      "name": "python3",
      "language": "python",
      "display_name": "Python 3"
    },
    "language_info": {
      "name": "python",
      "version": "3.6.1",
      "mimetype": "text/x-python",
      "codemirror_mode": {
        "name": "ipython",
        "version": 3
      },
      "pygments_lexer": "ipython3",
      "nbconvert_exporter": "python",
      "file_extension": ".py"
    },
    "nteract": {
      "version": "0.11.2"
    }
  },
  "nbformat": 4,
  "nbformat_minor": 4
}