{
  "cells": [
    {
      "cell_type": "code",
      "source": [
        "from tic_tac_pg import policy_gradients\n",
        "\npg_model = policy_gradients(lr=0.001,seed=42,batch_size=30,max_iter=5)"
      ],
      "outputs": [],
      "execution_count": 1,
      "metadata": {
        "collapsed": false,
        "outputHidden": false,
        "inputHidden": false
      }
    },
    {
      "cell_type": "code",
      "source": [
        "import numpy as np\n",
        "import tensorflow as tf\n",
        "\n",
        "Z = np.zeros((3,3))\n",
        "\n",
        "zero_pad_state = np.pad(Z,(1,1),'constant')\n",
        "\n",
        "with tf.Session() as sess:\n",
        "    \n",
        "    sess.run(pg_model.init_g)\n",
        "                \n",
        "    #feed = {pg_model.X_t:zero_pad_state.reshape((1,5,5,1)),\n",
        "    #        pg_model.state:Z.flatten().reshape((1,9))}\n",
        "    \n",
        "    feed = {pg_model.X_t:zero_pad_state.reshape((1,5,5,1))}\n",
        "\n",
        "    action = sess.run(pg_model.lstm_agent.policy,feed_dict=feed)\n",
        "    \n",
        "    print(action)"
      ],
      "outputs": [],
      "execution_count": null,
      "metadata": {
        "collapsed": false,
        "outputHidden": false,
        "inputHidden": false
      }
    },
    {
      "cell_type": "code",
      "source": [
        "import numpy as np\n",
        "import tensorflow as tf\n",
        "\n",
        "Z = np.zeros((3,3))\n",
        "\n",
        "zero_pad_state = np.pad(Z,(1,1),'constant')\n",
        "\n",
        "with tf.Session() as sess:\n",
        "    \n",
        "    sess.run(pg_model.init_g)\n",
        "    \n",
        "    feed = {pg_model.X_t:zero_pad_state.reshape((1,5,5,1)),\n",
        "            pg_model.state:Z.flatten().reshape((1,9))}\n",
        "\n",
        "    policy = sess.run(pg_model.lstm_agent.policy,feed_dict=feed)\n",
        "                \n",
        "    feed2 = {pg_model.policy_placeholder:policy.reshape((1,9)),\n",
        "            pg_model.state:Z.flatten().reshape((1,9))}\n",
        "    \n",
        "    action = sess.run(pg_model.sample_action,feed_dict=feed)\n",
        "    \n",
        "    print(action)"
      ],
      "outputs": [
        {
          "output_type": "stream",
          "name": "stdout",
          "text": [
            "[[[0. 0. 0. 1. 0. 0. 0. 0. 0.]]]\n"
          ]
        }
      ],
      "execution_count": 2,
      "metadata": {
        "collapsed": false,
        "outputHidden": false,
        "inputHidden": false
      }
    }
  ],
  "metadata": {
    "kernel_info": {
      "name": "python3"
    },
    "language_info": {
      "name": "python",
      "version": "3.6.1",
      "mimetype": "text/x-python",
      "codemirror_mode": {
        "name": "ipython",
        "version": 3
      },
      "pygments_lexer": "ipython3",
      "nbconvert_exporter": "python",
      "file_extension": ".py"
    },
    "kernelspec": {
      "name": "python3",
      "language": "python",
      "display_name": "Python 3"
    },
    "nteract": {
      "version": "0.11.2"
    }
  },
  "nbformat": 4,
  "nbformat_minor": 4
}