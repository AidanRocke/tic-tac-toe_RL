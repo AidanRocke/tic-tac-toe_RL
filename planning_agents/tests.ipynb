{
  "cells": [
    {
      "cell_type": "code",
      "source": [
        "from tic_tac_pg import policy_gradients\n",
        "\npg_model = policy_gradients(lr=0.001,seed=42,batch_size=30,max_iter=5)"
      ],
      "outputs": [],
      "execution_count": 1,
      "metadata": {
        "collapsed": false,
        "outputHidden": false,
        "inputHidden": false
      }
    },
    {
      "cell_type": "markdown",
      "source": [
        "## 1. Check that we can infer actions: "
      ],
      "metadata": {}
    },
    {
      "cell_type": "code",
      "source": [
        "import numpy as np\n",
        "import tensorflow as tf\n",
        "\n",
        "Z = np.zeros((3,3))\n",
        "\n",
        "zero_pad_state = np.pad(Z,(1,1),'constant')\n",
        "\n",
        "iter_ = 10\n",
        "\n",
        "with tf.Session() as sess:\n",
        "    \n",
        "    sess.run(pg_model.init_g)\n",
        "    \n",
        "    for i in range(30):\n",
        "        \n",
        "            count = 0\n",
        "                        \n",
        "            while iter_ != 0:\n",
        "                \n",
        "                iter_ -= 1\n",
        "                \n",
        "                Z = np.zeros((3,3))\n",
        "                \n",
        "                zero_pad_state = np.pad(Z,(1,1),'constant')\n",
        "                \n",
        "                \n",
        "                feed = {pg_model.X_t:zero_pad_state.reshape((1,5,5,1)),\n",
        "                        pg_model.state:Z.flatten().reshape((1,9))}\n",
        "                \n",
        "                ## add the agent's move:\n",
        "                action = sess.run(pg_model.sample_action,feed_dict=feed)\n",
        "                \n",
        "                print(action)"
      ],
      "outputs": [
        {
          "output_type": "stream",
          "name": "stdout",
          "text": [
            "[[[0. 0. 0. 0. 0. 1. 0. 0. 0.]]]\n",
            "[[[1. 0. 0. 0. 0. 0. 0. 0. 0.]]]\n",
            "[[[1. 0. 0. 0. 0. 0. 0. 0. 0.]]]\n",
            "[[[1. 0. 0. 0. 0. 0. 0. 0. 0.]]]\n",
            "[[[0. 0. 1. 0. 0. 0. 0. 0. 0.]]]\n",
            "[[[0. 0. 0. 0. 0. 1. 0. 0. 0.]]]\n",
            "[[[0. 0. 0. 0. 0. 0. 1. 0. 0.]]]\n",
            "[[[0. 0. 0. 1. 0. 0. 0. 0. 0.]]]\n",
            "[[[0. 0. 0. 0. 0. 0. 0. 1. 0.]]]\n",
            "[[[0. 0. 0. 0. 0. 0. 0. 1. 0.]]]\n"
          ]
        }
      ],
      "execution_count": 2,
      "metadata": {
        "collapsed": false,
        "outputHidden": false,
        "inputHidden": false
      }
    },
    {
      "cell_type": "markdown",
      "source": [
        "### We can infer actions. "
      ],
      "metadata": {}
    },
    {
      "cell_type": "markdown",
      "source": [
        "## 2. Check that we can load the tic-tac-toe system: "
      ],
      "metadata": {}
    },
    {
      "cell_type": "code",
      "source": [
        "import numpy as np\n",
        "import tensorflow as tf\n",
        "from tic_tac_learning import simulator\n",
        "from tic_tac_pg import policy_gradients\n",
        "from clever_stochastician import clever_stochastician as CS\n",
        "from tic_tac_system import tic_tac_system\n",
        "from evaluation import game_evaluation as G\n",
        "\n",
        "tf.reset_default_graph()\n",
        "\n",
        "G = G()\n",
        "\n",
        "pg_model = policy_gradients(lr=0.001,seed=42,batch_size=30,max_iter=5)\n",
        "\n",
        "tic_tac = tic_tac_system(G,model=pg_model,opponent=CS,epochs=2000,depth=5,gamma=0.9)\n"
      ],
      "outputs": [],
      "execution_count": 3,
      "metadata": {
        "collapsed": false,
        "outputHidden": false,
        "inputHidden": false
      }
    },
    {
      "cell_type": "markdown",
      "source": [
        "### We can load the tic-tac-toe system. "
      ],
      "metadata": {}
    },
    {
      "cell_type": "markdown",
      "source": [
        "## 3. Check that we can initialise the tic-tac-toe system:"
      ],
      "metadata": {}
    },
    {
      "cell_type": "code",
      "source": [
        " with tf.Session() as sess:\n",
        "        \n",
        "    ### initialise the variables:\n",
        "    sess.run(tic_tac.model.init_g)\n",
        "    sess.run(tic_tac.model.init_l)"
      ],
      "outputs": [],
      "execution_count": 4,
      "metadata": {
        "collapsed": false,
        "outputHidden": false,
        "inputHidden": false
      }
    },
    {
      "cell_type": "markdown",
      "source": [
        "## 4. Check that we can produce a rollout:"
      ],
      "metadata": {}
    },
    {
      "cell_type": "code",
      "source": [
        "def simulator(tic_tac):    \n",
        "        \n",
        "    with tf.Session() as sess:\n",
        "        \n",
        "        ### initialise the variables:\n",
        "        sess.run(tic_tac.model.init_g)\n",
        "        sess.run(tic_tac.model.init_l)\n",
        "        \n",
        "        rollouts, rewards = tic_tac.rollouts(sess) \n",
        "        \n",
        "        print(rewards)\n",
        "            \n",
        "  \n",
        "simulator(tic_tac)"
      ],
      "outputs": [
        {
          "output_type": "stream",
          "name": "stdout",
          "text": [
            "[[-5.         -2.23606798 -1.          0.          0.          0.\n",
            "   0.          0.          0.        ]\n",
            " [ 0.          0.          0.          0.          0.          0.\n",
            "   0.          0.          0.        ]\n",
            " [ 0.          0.          0.          0.          0.          0.\n",
            "   0.          0.          0.        ]\n",
            " [ 0.          0.          0.          0.          0.          0.\n",
            "   0.          0.          0.        ]\n",
            " [ 0.          0.          0.          0.          0.          0.\n",
            "   0.          0.          0.        ]\n",
            " [ 0.          0.          0.          0.          0.          0.\n",
            "   0.          0.          0.        ]\n",
            " [ 0.          0.          0.          0.          0.          0.\n",
            "   0.          0.          0.        ]\n",
            " [ 0.          0.          0.          0.          0.          0.\n",
            "   0.          0.          0.        ]\n",
            " [ 0.          0.          0.          0.          0.          0.\n",
            "   0.          0.          0.        ]\n",
            " [ 0.          0.          0.          0.          0.          0.\n",
            "   0.          0.          0.        ]\n",
            " [ 0.          0.          0.          0.          0.          0.\n",
            "   0.          0.          0.        ]\n",
            " [ 0.          0.          0.          0.          0.          0.\n",
            "   0.          0.          0.        ]\n",
            " [ 0.          0.          0.          0.          0.          0.\n",
            "   0.          0.          0.        ]\n",
            " [ 0.          0.          0.          0.          0.          0.\n",
            "   0.          0.          0.        ]\n",
            " [ 0.          0.          0.          0.          0.          0.\n",
            "   0.          0.          0.        ]\n",
            " [ 0.          0.          0.          0.          0.          0.\n",
            "   0.          0.          0.        ]\n",
            " [ 0.          0.          0.          0.          0.          0.\n",
            "   0.          0.          0.        ]\n",
            " [ 0.          0.          0.          0.          0.          0.\n",
            "   0.          0.          0.        ]\n",
            " [ 0.          0.          0.          0.          0.          0.\n",
            "   0.          0.          0.        ]\n",
            " [ 0.          0.          0.          0.          0.          0.\n",
            "   0.          0.          0.        ]\n",
            " [ 0.          0.          0.          0.          0.          0.\n",
            "   0.          0.          0.        ]\n",
            " [ 0.          0.          0.          0.          0.          0.\n",
            "   0.          0.          0.        ]\n",
            " [ 0.          0.          0.          0.          0.          0.\n",
            "   0.          0.          0.        ]\n",
            " [ 0.          0.          0.          0.          0.          0.\n",
            "   0.          0.          0.        ]\n",
            " [ 0.          0.          0.          0.          0.          0.\n",
            "   0.          0.          0.        ]\n",
            " [ 0.          0.          0.          0.          0.          0.\n",
            "   0.          0.          0.        ]\n",
            " [ 0.          0.          0.          0.          0.          0.\n",
            "   0.          0.          0.        ]\n",
            " [ 0.          0.          0.          0.          0.          0.\n",
            "   0.          0.          0.        ]\n",
            " [ 0.          0.          0.          0.          0.          0.\n",
            "   0.          0.          0.        ]\n",
            " [ 0.          0.          0.          0.          0.          0.\n",
            "   0.          0.          0.        ]]\n"
          ]
        }
      ],
      "execution_count": 5,
      "metadata": {
        "collapsed": false,
        "outputHidden": false,
        "inputHidden": false
      }
    }
  ],
  "metadata": {
    "kernel_info": {
      "name": "python3"
    },
    "language_info": {
      "name": "python",
      "version": "3.6.1",
      "mimetype": "text/x-python",
      "codemirror_mode": {
        "name": "ipython",
        "version": 3
      },
      "pygments_lexer": "ipython3",
      "nbconvert_exporter": "python",
      "file_extension": ".py"
    },
    "kernelspec": {
      "name": "python3",
      "language": "python",
      "display_name": "Python 3"
    },
    "nteract": {
      "version": "0.11.2"
    }
  },
  "nbformat": 4,
  "nbformat_minor": 4
}