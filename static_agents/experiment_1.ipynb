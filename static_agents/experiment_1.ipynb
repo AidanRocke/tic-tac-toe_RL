{
  "cells": [
    {
      "cell_type": "markdown",
      "source": [
        "## Investigating two different approaches to playing tic-tac-toe:\n",
        "### 1. Simple play: a greedy approach where information isn't shared between nodes\n",
        "### 2. Stochastic play: a greedy approach where information is shared between nodes\n",
        "### 3. Comparison of simple play vs stochastic play\n",
        "\n#### Note: One of the things we'll investigate is the existence of a first-mover advantage i.e. the first mover can afford to be careless about their first move whereas the second player can't. "
      ],
      "metadata": {
        "collapsed": false,
        "outputHidden": false,
        "inputHidden": false
      }
    },
    {
      "cell_type": "code",
      "source": [
        "## load everything:\n",
        "\n",
        "import numpy as np\n",
        "from simple_play import simple_play\n",
        "from clever_stochastician import clever_stochastician\n",
        "\n",
        "### there are four possible permutations where player A moves first\n",
        "### and so we'll use a 2-d boolean vector(ex. [0,1]) to denote the\n",
        "### combination of interest:\n",
        "## 1. simple(player A) vs simple(player B)\n",
        "## 2. stochastic(player A) vs stochastic(player B)\n",
        "## 3. simple(player A) vs stochastic(player B)\n",
        "## 4. stochastic(player A) vs simple(player B)\n",
        "\n",
        "def game_simulation(player_combo,num_games,random_start,depth,gamma):\n",
        "\n",
        "    outcomes = np.zeros(num_games)\n",
        "    \n",
        "    initial_conditions = []\n",
        "    \n",
        "    for i in range(num_games):\n",
        "        \n",
        "        game = 1.0\n",
        "        \n",
        "        Z = np.zeros((3,3))\n",
        "        X, O = np.random.choice(np.arange(9),2,replace=False)\n",
        "        Z[int(X/3)][X % 3] = 1.0\n",
        "        \n",
        "        if random_start == 1.0:\n",
        "            ## the second player plays randomly:\n",
        "            Z[int(O/3)][O % 3] = -1.0\n",
        "            \n",
        "        else:\n",
        "            ## the second player doesn't play randomly:\n",
        "            if player_combo[1] == 1.0:\n",
        "                P2 = clever_stochastician(-1.0*Z,depth,gamma)\n",
        "                Z += -1.0*P2.move()\n",
        "            else:   \n",
        "                P2 = simple_play(-1.0*Z,depth,gamma)\n",
        "                Z += -1.0*P2.move()\n",
        "        \n",
        "        initial_conditions.append(np.copy(Z))\n",
        "    \n",
        "        while game == 1.0:\n",
        "            ## player A move:\n",
        "            if player_combo[0] == 1.0:\n",
        "                P1 = clever_stochastician(Z,depth,gamma)\n",
        "                Z += P1.move()\n",
        "            else:  \n",
        "                P1 = simple_play(Z,depth,gamma)\n",
        "                Z += P1.move()\n",
        "            \n",
        "            if P1.score(Z)[1] != 0.0:\n",
        "                outcomes[i] = P1.score(Z)[1]\n",
        "                \n",
        "                game = 0.0\n",
        "                \n",
        "                break\n",
        "            \n",
        "            ## player B move:\n",
        "            if player_combo[1] == 1.0:\n",
        "                P2 = clever_stochastician(-1.0*Z,depth,gamma)\n",
        "                Z += -1.0*P2.move()\n",
        "            else:   \n",
        "                P2 = simple_play(-1.0*Z,depth,gamma)\n",
        "                Z += -1.0*P2.move()\n",
        "            \n",
        "    return initial_conditions, outcomes"
      ],
      "outputs": [],
      "execution_count": 1,
      "metadata": {
        "collapsed": false,
        "outputHidden": false,
        "inputHidden": false
      }
    },
    {
      "cell_type": "markdown",
      "source": [
        "## 1. Analysing simple play via self-play: \n",
        "### a. Distribution of outcomes when second mover plays randomly\n",
        "### b. Distribution of outcomes when the second player is non-random"
      ],
      "metadata": {
        "collapsed": false,
        "outputHidden": false,
        "inputHidden": false
      }
    },
    {
      "cell_type": "code",
      "source": [
        "player_combo = np.array([0.0,0.0])\n",
        "num_games = 100\n",
        "random_start = 1.0\n",
        "depth = 5\n",
        "gamma = 0.9\n",
        "\n_, outcomes = game_simulation(player_combo,num_games,random_start,depth,gamma)"
      ],
      "outputs": [
        {
          "output_type": "stream",
          "name": "stderr",
          "text": [
            "/Users/aidanrockea/anaconda/lib/python3.6/site-packages/numpy/core/fromnumeric.py:2957: RuntimeWarning: Mean of empty slice.\n",
            "  out=out, **kwargs)\n",
            "/Users/aidanrockea/anaconda/lib/python3.6/site-packages/numpy/core/_methods.py:80: RuntimeWarning: invalid value encountered in double_scalars\n",
            "  ret = ret.dtype.type(ret / rcount)\n"
          ]
        }
      ],
      "execution_count": 2,
      "metadata": {
        "collapsed": false,
        "outputHidden": false,
        "inputHidden": false
      }
    },
    {
      "cell_type": "code",
      "source": [
        "np.mean(outcomes == 1.0), np.mean(outcomes == 0.5),np.mean(outcomes == -1.0) ## win, draw, loss percentages"
      ],
      "outputs": [
        {
          "output_type": "execute_result",
          "execution_count": 3,
          "data": {
            "text/plain": [
              "(0.67, 0.15, 0.18)"
            ]
          },
          "metadata": {}
        }
      ],
      "execution_count": 3,
      "metadata": {
        "collapsed": false,
        "outputHidden": false,
        "inputHidden": false
      }
    },
    {
      "cell_type": "code",
      "source": [
        "np.mean(outcomes == 1.0)/np.mean(outcomes == -1.0) ## win-loss ratio"
      ],
      "outputs": [
        {
          "output_type": "execute_result",
          "execution_count": 4,
          "data": {
            "text/plain": [
              "3.7222222222222228"
            ]
          },
          "metadata": {}
        }
      ],
      "execution_count": 4,
      "metadata": {
        "collapsed": false,
        "outputHidden": false,
        "inputHidden": false
      }
    },
    {
      "cell_type": "markdown",
      "source": [
        "### When player B makes their first move randomly, there appears to be a distinct first mover advantage. "
      ],
      "metadata": {}
    },
    {
      "cell_type": "code",
      "source": [
        "player_combo = np.array([0.0,0.0])\n",
        "num_games = 100\n",
        "random_start = 0.0\n",
        "depth = 5\n",
        "gamma = 0.9\n",
        "\n_, outcomes = game_simulation(player_combo,num_games,random_start,depth,gamma)"
      ],
      "outputs": [],
      "execution_count": 5,
      "metadata": {
        "collapsed": false,
        "outputHidden": false,
        "inputHidden": false
      }
    },
    {
      "cell_type": "code",
      "source": [
        "np.mean(outcomes == 1.0), np.mean(outcomes == 0.5),np.mean(outcomes == -1.0) ## win, draw, loss percentages"
      ],
      "outputs": [
        {
          "output_type": "execute_result",
          "execution_count": 6,
          "data": {
            "text/plain": [
              "(0.31, 0.2, 0.49)"
            ]
          },
          "metadata": {}
        }
      ],
      "execution_count": 6,
      "metadata": {
        "collapsed": false,
        "outputHidden": false,
        "inputHidden": false
      }
    },
    {
      "cell_type": "code",
      "source": [
        "np.mean(outcomes == 1.0)/np.mean(outcomes == -1.0) ## win-loss ratio"
      ],
      "outputs": [
        {
          "output_type": "execute_result",
          "execution_count": 7,
          "data": {
            "text/plain": [
              "0.6326530612244898"
            ]
          },
          "metadata": {}
        }
      ],
      "execution_count": 7,
      "metadata": {
        "collapsed": false,
        "outputHidden": false,
        "inputHidden": false
      }
    },
    {
      "cell_type": "markdown",
      "source": [
        "### The first mover advantage disappears when the second player reacts in an appropriate manner. "
      ],
      "metadata": {}
    },
    {
      "cell_type": "markdown",
      "source": [
        "## 2. Analysing stochastic play via self-play: \n",
        "### a. Distribution of outcomes when second mover plays randomly\n",
        "### b. Distribution of outcomes when the second player is non-random"
      ],
      "metadata": {}
    },
    {
      "cell_type": "code",
      "source": [
        "player_combo = np.array([1.0,1.0])\n",
        "num_games = 100\n",
        "random_start = 1.0\n",
        "depth = 5\n",
        "gamma = 0.9\n",
        "\n_, outcomes = game_simulation(player_combo,num_games,random_start,depth,gamma)"
      ],
      "outputs": [],
      "execution_count": 8,
      "metadata": {
        "collapsed": false,
        "outputHidden": false,
        "inputHidden": false
      }
    },
    {
      "cell_type": "code",
      "source": [
        "np.mean(outcomes == 1.0), np.mean(outcomes == 0.5),np.mean(outcomes == -1.0) ## win, draw, loss percentages"
      ],
      "outputs": [
        {
          "output_type": "execute_result",
          "execution_count": 9,
          "data": {
            "text/plain": [
              "(0.71, 0.29, 0.0)"
            ]
          },
          "metadata": {}
        }
      ],
      "execution_count": 9,
      "metadata": {
        "collapsed": false,
        "outputHidden": false,
        "inputHidden": false
      }
    },
    {
      "cell_type": "code",
      "source": [
        "np.mean(outcomes == 1.0)/np.mean(outcomes == -1.0) ## win-loss ratio"
      ],
      "outputs": [
        {
          "output_type": "stream",
          "name": "stderr",
          "text": [
            "/Users/aidanrockea/anaconda/lib/python3.6/site-packages/ipykernel_launcher.py:1: RuntimeWarning: divide by zero encountered in double_scalars\n",
            "  \"\"\"Entry point for launching an IPython kernel.\n"
          ]
        },
        {
          "output_type": "execute_result",
          "execution_count": 10,
          "data": {
            "text/plain": [
              "inf"
            ]
          },
          "metadata": {}
        }
      ],
      "execution_count": 10,
      "metadata": {
        "collapsed": false,
        "outputHidden": false,
        "inputHidden": false
      }
    },
    {
      "cell_type": "markdown",
      "source": [
        "### As we will see later, stochastic player is a 'stronger player' than 'simple player' and here there is again empirical evidence for a first mover advantage. "
      ],
      "metadata": {}
    },
    {
      "cell_type": "code",
      "source": [
        "player_combo = np.array([1.0,1.0])\n",
        "num_games = 100\n",
        "random_start = 0.0\n",
        "depth = 5\n",
        "gamma = 0.9\n",
        "\n_, outcomes = game_simulation(player_combo,num_games,random_start,depth,gamma)"
      ],
      "outputs": [],
      "execution_count": 11,
      "metadata": {
        "collapsed": false,
        "outputHidden": false,
        "inputHidden": false
      }
    },
    {
      "cell_type": "code",
      "source": [
        "np.mean(outcomes == 1.0), np.mean(outcomes == 0.5),np.mean(outcomes == -1.0) ## win, draw, loss percentage"
      ],
      "outputs": [
        {
          "output_type": "execute_result",
          "execution_count": 12,
          "data": {
            "text/plain": [
              "(0.52, 0.48, 0.0)"
            ]
          },
          "metadata": {}
        }
      ],
      "execution_count": 12,
      "metadata": {
        "collapsed": false,
        "outputHidden": false,
        "inputHidden": false
      }
    },
    {
      "cell_type": "code",
      "source": [
        "np.mean(outcomes == 1.0)/np.mean(outcomes == -1.0) ## win-loss ratio "
      ],
      "outputs": [
        {
          "output_type": "execute_result",
          "execution_count": 7,
          "data": {
            "text/plain": [
              "40.0"
            ]
          },
          "metadata": {}
        }
      ],
      "execution_count": 7,
      "metadata": {
        "collapsed": false,
        "outputHidden": false,
        "inputHidden": false
      }
    },
    {
      "cell_type": "markdown",
      "source": [
        "### It appears that in the case of the stochastic player(which doesn't play perfectly) there is again a first-mover advantage even in situations\n",
        "### where the first move of player B is non-random. I suspect that this advantage would tend to zero as the strength of the second player approached\n",
        "### perfection. "
      ],
      "metadata": {}
    },
    {
      "cell_type": "markdown",
      "source": [
        "## 3. Stochastic player vs Simple player where stochastic player moves first:\n",
        "### a. Simple player's first move is random\n",
        "### b. Simple player's first move is non-random"
      ],
      "metadata": {}
    },
    {
      "cell_type": "code",
      "source": [
        "player_combo = np.array([1.0,0.0])\n",
        "num_games = 100\n",
        "random_start = 1.0\n",
        "depth = 5\n",
        "gamma = 0.9\n",
        "\n_, outcomes = game_simulation(player_combo,num_games,random_start,depth,gamma)"
      ],
      "outputs": [],
      "execution_count": 13,
      "metadata": {
        "collapsed": false,
        "outputHidden": false,
        "inputHidden": false
      }
    },
    {
      "cell_type": "code",
      "source": [
        "np.mean(outcomes == 1.0), np.mean(outcomes == 0.5),np.mean(outcomes == -1.0) ## win, draw, loss percentage"
      ],
      "outputs": [
        {
          "output_type": "execute_result",
          "execution_count": 14,
          "data": {
            "text/plain": [
              "(0.67, 0.24, 0.09)"
            ]
          },
          "metadata": {}
        }
      ],
      "execution_count": 14,
      "metadata": {
        "collapsed": false,
        "outputHidden": false,
        "inputHidden": false
      }
    },
    {
      "cell_type": "code",
      "source": [
        "np.mean(outcomes == 1.0)/np.mean(outcomes == -1.0) ## win-loss ratio"
      ],
      "outputs": [
        {
          "output_type": "execute_result",
          "execution_count": 15,
          "data": {
            "text/plain": [
              "7.4444444444444455"
            ]
          },
          "metadata": {}
        }
      ],
      "execution_count": 15,
      "metadata": {
        "collapsed": false,
        "outputHidden": false,
        "inputHidden": false
      }
    },
    {
      "cell_type": "markdown",
      "source": [
        "### Alternatively, if we gave +1 for a win and -1 for a loss and 0 for a draw:"
      ],
      "metadata": {}
    },
    {
      "cell_type": "code",
      "source": [
        "0.67-0.09"
      ],
      "outputs": [
        {
          "output_type": "execute_result",
          "execution_count": 16,
          "data": {
            "text/plain": [
              "0.5800000000000001"
            ]
          },
          "metadata": {}
        }
      ],
      "execution_count": 16,
      "metadata": {
        "collapsed": false,
        "outputHidden": false,
        "inputHidden": false
      }
    },
    {
      "cell_type": "markdown",
      "source": [
        "### There's a clear first-mover advantage but it's less remarkable than the case where simple player or stochastic player plays against itself. They say that styles make fights but neither of these players are making an effort to adapt to each other so I suspect that there would be a similar ratio if the setup was reversed i.e. Simple player moved first. "
      ],
      "metadata": {}
    },
    {
      "cell_type": "code",
      "source": [
        "player_combo = np.array([1.0,0.0])\n",
        "num_games = 100\n",
        "random_start = 0.0\n",
        "depth = 5\n",
        "gamma = 0.9\n",
        "\n_, outcomes = game_simulation(player_combo,num_games,random_start,depth,gamma)"
      ],
      "outputs": [],
      "execution_count": 5,
      "metadata": {
        "collapsed": false,
        "outputHidden": false,
        "inputHidden": false
      }
    },
    {
      "cell_type": "code",
      "source": [
        "np.mean(outcomes == 1.0), np.mean(outcomes == 0.5),np.mean(outcomes == -1.0) ## win, draw, loss percentage"
      ],
      "outputs": [
        {
          "output_type": "execute_result",
          "execution_count": 6,
          "data": {
            "text/plain": [
              "(0.73, 0.19, 0.08)"
            ]
          },
          "metadata": {}
        }
      ],
      "execution_count": 6,
      "metadata": {
        "collapsed": false,
        "outputHidden": false,
        "inputHidden": false
      }
    },
    {
      "cell_type": "code",
      "source": [
        "np.mean(outcomes == 1.0)/np.mean(outcomes == -1.0) ## win-loss ratio"
      ],
      "outputs": [
        {
          "output_type": "execute_result",
          "execution_count": 7,
          "data": {
            "text/plain": [
              "9.125"
            ]
          },
          "metadata": {}
        }
      ],
      "execution_count": 7,
      "metadata": {
        "collapsed": false,
        "outputHidden": false,
        "inputHidden": false
      }
    },
    {
      "cell_type": "markdown",
      "source": [
        "### If we gave +1 for a win and -1 for a loss and 0 for a draw:"
      ],
      "metadata": {}
    },
    {
      "cell_type": "code",
      "source": [
        "0.73-0.08"
      ],
      "outputs": [
        {
          "output_type": "execute_result",
          "execution_count": 17,
          "data": {
            "text/plain": [
              "0.65"
            ]
          },
          "metadata": {}
        }
      ],
      "execution_count": 17,
      "metadata": {
        "collapsed": false,
        "outputHidden": false,
        "inputHidden": false
      }
    },
    {
      "cell_type": "markdown",
      "source": [
        "### Now, let's see what happens when the situation is reversed. "
      ],
      "metadata": {}
    },
    {
      "cell_type": "markdown",
      "source": [
        "## 4. Simple player vs Stochastic player where simple player moves first:\n",
        "### a. Stochastic player's first move is random\n",
        "### b. Stochastic player's first move is non-random"
      ],
      "metadata": {}
    },
    {
      "cell_type": "code",
      "source": [
        "player_combo = np.array([0.0,1.0])\n",
        "num_games = 100\n",
        "random_start = 1.0\n",
        "depth = 5\n",
        "gamma = 0.9\n",
        "\n_, outcomes = game_simulation(player_combo,num_games,random_start,depth,gamma)"
      ],
      "outputs": [
        {
          "output_type": "stream",
          "name": "stderr",
          "text": [
            "/Users/aidanrockea/anaconda/lib/python3.6/site-packages/numpy/core/fromnumeric.py:2957: RuntimeWarning: Mean of empty slice.\n",
            "  out=out, **kwargs)\n",
            "/Users/aidanrockea/anaconda/lib/python3.6/site-packages/numpy/core/_methods.py:80: RuntimeWarning: invalid value encountered in double_scalars\n",
            "  ret = ret.dtype.type(ret / rcount)\n"
          ]
        }
      ],
      "execution_count": 18,
      "metadata": {
        "collapsed": false,
        "outputHidden": false,
        "inputHidden": false
      }
    },
    {
      "cell_type": "code",
      "source": [
        "np.mean(outcomes == 1.0), np.mean(outcomes == 0.5),np.mean(outcomes == -1.0) ## win, draw, loss percentage"
      ],
      "outputs": [
        {
          "output_type": "execute_result",
          "execution_count": 19,
          "data": {
            "text/plain": [
              "(0.53, 0.45, 0.02)"
            ]
          },
          "metadata": {}
        }
      ],
      "execution_count": 19,
      "metadata": {
        "collapsed": false,
        "outputHidden": false,
        "inputHidden": false
      }
    },
    {
      "cell_type": "code",
      "source": [
        "np.mean(outcomes == 1.0)/np.mean(outcomes == -1.0) ## win-loss ratio"
      ],
      "outputs": [
        {
          "output_type": "execute_result",
          "execution_count": 20,
          "data": {
            "text/plain": [
              "26.5"
            ]
          },
          "metadata": {}
        }
      ],
      "execution_count": 20,
      "metadata": {
        "collapsed": false,
        "outputHidden": false,
        "inputHidden": false
      }
    },
    {
      "cell_type": "code",
      "source": [
        "0.53-0.02"
      ],
      "outputs": [
        {
          "output_type": "execute_result",
          "execution_count": 21,
          "data": {
            "text/plain": [
              "0.51"
            ]
          },
          "metadata": {}
        }
      ],
      "execution_count": 21,
      "metadata": {
        "collapsed": false,
        "outputHidden": false,
        "inputHidden": false
      }
    },
    {
      "cell_type": "markdown",
      "source": [
        "### Interestingly, the first-mover advantage here is much more evident than in the situation where stochastic player moved first against simple player. It might be that Stochastic player is somehow weaker. "
      ],
      "metadata": {}
    },
    {
      "cell_type": "code",
      "source": [
        "player_combo = np.array([0.0,1.0])\n",
        "num_games = 100\n",
        "random_start = 0.0\n",
        "depth = 5\n",
        "gamma = 0.9\n",
        "\n_, outcomes = game_simulation(player_combo,num_games,random_start,depth,gamma)"
      ],
      "outputs": [
        {
          "output_type": "stream",
          "name": "stderr",
          "text": [
            "/Users/aidanrockea/anaconda/lib/python3.6/site-packages/numpy/core/fromnumeric.py:2957: RuntimeWarning: Mean of empty slice.\n",
            "  out=out, **kwargs)\n",
            "/Users/aidanrockea/anaconda/lib/python3.6/site-packages/numpy/core/_methods.py:80: RuntimeWarning: invalid value encountered in double_scalars\n",
            "  ret = ret.dtype.type(ret / rcount)\n"
          ]
        }
      ],
      "execution_count": 22,
      "metadata": {
        "collapsed": false,
        "outputHidden": false,
        "inputHidden": false
      }
    },
    {
      "cell_type": "code",
      "source": [
        "np.mean(outcomes == 1.0), np.mean(outcomes == 0.5),np.mean(outcomes == -1.0) ## win, draw, loss percentage"
      ],
      "outputs": [
        {
          "output_type": "execute_result",
          "execution_count": 23,
          "data": {
            "text/plain": [
              "(0.59, 0.41, 0.0)"
            ]
          },
          "metadata": {}
        }
      ],
      "execution_count": 23,
      "metadata": {
        "collapsed": false,
        "outputHidden": false,
        "inputHidden": false
      }
    },
    {
      "cell_type": "code",
      "source": [
        "0.59-0.0"
      ],
      "outputs": [
        {
          "output_type": "execute_result",
          "execution_count": 24,
          "data": {
            "text/plain": [
              "0.59"
            ]
          },
          "metadata": {}
        }
      ],
      "execution_count": 24,
      "metadata": {
        "collapsed": false,
        "outputHidden": false,
        "inputHidden": false
      }
    },
    {
      "cell_type": "markdown",
      "source": [
        "### I think the interesting observation here is that the stochastic algorithm is better at forcing victories when it happens to be the first mover whereas the simple player is better at avoiding losses. In some sense, the stochastic player plays a more risky game whereas simple player tends to be risk-averse. "
      ],
      "metadata": {}
    }
  ],
  "metadata": {
    "kernel_info": {
      "name": "python3"
    },
    "kernelspec": {
      "name": "python3",
      "language": "python",
      "display_name": "Python 3"
    },
    "language_info": {
      "name": "python",
      "version": "3.6.1",
      "mimetype": "text/x-python",
      "codemirror_mode": {
        "name": "ipython",
        "version": 3
      },
      "pygments_lexer": "ipython3",
      "nbconvert_exporter": "python",
      "file_extension": ".py"
    },
    "nteract": {
      "version": "0.8.4"
    }
  },
  "nbformat": 4,
  "nbformat_minor": 4
}