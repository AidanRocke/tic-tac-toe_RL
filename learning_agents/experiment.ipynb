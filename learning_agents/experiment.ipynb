{
  "cells": [
    {
      "cell_type": "markdown",
      "source": [
        "## Test that the Policy Gradient model learns to play tic tac toe: "
      ],
      "metadata": {
        "collapsed": false,
        "outputHidden": false,
        "inputHidden": false
      }
    },
    {
      "cell_type": "code",
      "source": [
        "import numpy as np\n",
        "from tic_tac_learning import simulator\n",
        "from tic_tac_pg import policy_gradients\n",
        "from clever_stochastician import clever_stochastician as CS\n",
        "from tic_tac_system import tic_tac_system\n",
        "from evaluation import game_evaluation as G\n",
        "\n",
        "G = G()\n",
        "\n",
        "pg_model = policy_gradients(lr=0.1,seed=42,batch_size=20)\n",
        "\n",
        "tic_tac = tic_tac_system(G,model=pg_model,opponent=CS,epochs=600,depth=5,gamma=0.9)\n",
        "\nscores = simulator(tic_tac)"
      ],
      "outputs": [
        {
          "output_type": "stream",
          "name": "stderr",
          "text": [
            "/Users/aidanrockea/anaconda/lib/python3.6/site-packages/numpy/core/fromnumeric.py:2957: RuntimeWarning: Mean of empty slice.\n",
            "  out=out, **kwargs)\n",
            "/Users/aidanrockea/anaconda/lib/python3.6/site-packages/numpy/core/_methods.py:80: RuntimeWarning: invalid value encountered in double_scalars\n",
            "  ret = ret.dtype.type(ret / rcount)\n"
          ]
        }
      ],
      "execution_count": 1,
      "metadata": {
        "collapsed": false,
        "outputHidden": false,
        "inputHidden": false
      }
    },
    {
      "cell_type": "markdown",
      "source": [
        "## Analyse learning progression: "
      ],
      "metadata": {}
    },
    {
      "cell_type": "code",
      "source": [
        "for i in range(6):\n",
        "    \n",
        "    print(np.mean((scores[i*100:(i+1)*100]+5.0)/10))"
      ],
      "outputs": [
        {
          "output_type": "stream",
          "name": "stdout",
          "text": [
            "0.6\n",
            "0.61\n",
            "0.7\n",
            "0.66\n",
            "0.73\n",
            "0.7676767676767676\n"
          ]
        }
      ],
      "execution_count": 2,
      "metadata": {
        "collapsed": false,
        "outputHidden": false,
        "inputHidden": false
      }
    }
  ],
  "metadata": {
    "kernel_info": {
      "name": "python3"
    },
    "kernelspec": {
      "name": "python3",
      "language": "python",
      "display_name": "Python 3"
    },
    "language_info": {
      "name": "python",
      "version": "3.6.1",
      "mimetype": "text/x-python",
      "codemirror_mode": {
        "name": "ipython",
        "version": 3
      },
      "pygments_lexer": "ipython3",
      "nbconvert_exporter": "python",
      "file_extension": ".py"
    },
    "nteract": {
      "version": "0.8.4"
    }
  },
  "nbformat": 4,
  "nbformat_minor": 4
}