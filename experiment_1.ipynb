{
  "cells": [
    {
      "cell_type": "markdown",
      "source": [
        "## Investigating two different approaches to playing tic-tac-toe:\n",
        "### 1. Simple play: a greedy approach where information isn't shared between nodes\n",
        "### 2. Stochastic play: a greedy approach where information is shared between nodes\n",
        "### 3. Comparison of simple play vs stochastic play\n",
        "\n#### Note: One of the things we'll investigate is the existence of a first-mover advantage i.e. the first mover can afford to be careless about their first move whereas the second player can't. "
      ],
      "metadata": {
        "collapsed": false,
        "outputHidden": false,
        "inputHidden": false
      }
    },
    {
      "cell_type": "code",
      "source": [
        "## load everything:\n",
        "\n",
        "import numpy as np\n",
        "from simple_play import simple_play\n",
        "from stochastic_play import stochastic_play\n",
        "\n",
        "### there are four possible permutations where player A moves first\n",
        "### and so we'll use a 2-d boolean vector(ex. [0,1]) to denote the\n",
        "### combination of interest:\n",
        "## 1. simple(player A) vs simple(player B)\n",
        "## 2. stochastic(player A) vs stochastic(player B)\n",
        "## 3. simple(player A) vs stochastic(player B)\n",
        "## 4. stochastic(player A) vs simple(player B)\n",
        "\n",
        "def game_simulation(player_combo,num_games,random_start,depth,gamma):\n",
        "\n",
        "    outcomes = np.zeros(num_games)\n",
        "    \n",
        "    initial_conditions = []\n",
        "    \n",
        "    for i in range(num_games):\n",
        "        \n",
        "        game = 1.0\n",
        "        \n",
        "        Z = np.zeros((3,3))\n",
        "        X, O = np.random.choice(np.arange(9),2,replace=False)\n",
        "        Z[int(X/3)][X % 3] = 1.0\n",
        "        \n",
        "        if random_start == 1.0:\n",
        "            ## the second player plays randomly:\n",
        "            Z[int(O/3)][O % 3] = -1.0\n",
        "            \n",
        "        else:\n",
        "            ## the second player doesn't play randomly:\n",
        "            if player_combo[1] == 1.0:\n",
        "                P2 = stochastic_play(-1.0*Z,depth,gamma)\n",
        "                Z += -1.0*P2.move()\n",
        "            else:   \n",
        "                P2 = simple_play(-1.0*Z,depth,gamma)\n",
        "                Z += -1.0*P2.move()\n",
        "        \n",
        "        initial_conditions.append(np.copy(Z))\n",
        "    \n",
        "        while game == 1.0:\n",
        "            ## player A move:\n",
        "            if player_combo[0] == 1.0:\n",
        "                P1 = stochastic_play(Z,depth,gamma)\n",
        "                Z += P1.move()\n",
        "            else:  \n",
        "                P1 = simple_play(Z,depth,gamma)\n",
        "                Z += P1.move()\n",
        "            \n",
        "            if P1.score(Z)[1] != 0.0:\n",
        "                outcomes[i] = P1.score(Z)[1]\n",
        "                \n",
        "                game = 0.0\n",
        "                \n",
        "                break\n",
        "            \n",
        "            ## player B move:\n",
        "            if player_combo[1] == 1.0:\n",
        "                P2 = stochastic_play(-1.0*Z,depth,gamma)\n",
        "                Z += -1.0*P2.move()\n",
        "            else:   \n",
        "                P2 = simple_play(-1.0*Z,depth,gamma)\n",
        "                Z += -1.0*P2.move()\n",
        "            \n",
        "    return initial_conditions, outcomes"
      ],
      "outputs": [],
      "execution_count": 2,
      "metadata": {
        "collapsed": false,
        "outputHidden": false,
        "inputHidden": false
      }
    },
    {
      "cell_type": "markdown",
      "source": [
        "## 1. Analysing simple play via self-play: \n",
        "### a. Distribution of outcomes when second mover plays randomly\n",
        "### b. Distribution of outcomes when the second player is non-random"
      ],
      "metadata": {
        "collapsed": false,
        "outputHidden": false,
        "inputHidden": false
      }
    },
    {
      "cell_type": "code",
      "source": [
        "player_combo = np.array([0.0,0.0])\n",
        "num_games = 100\n",
        "random_start = 1.0\n",
        "depth = 5\n",
        "gamma = 0.5\n",
        "\n_, outcomes = game_simulation(player_combo,num_games,random_start,depth,gamma)"
      ],
      "outputs": [
        {
          "output_type": "stream",
          "name": "stderr",
          "text": [
            "/Users/aidanrockea/anaconda/lib/python3.6/site-packages/numpy/core/fromnumeric.py:2957: RuntimeWarning: Mean of empty slice.\n",
            "  out=out, **kwargs)\n",
            "/Users/aidanrockea/anaconda/lib/python3.6/site-packages/numpy/core/_methods.py:80: RuntimeWarning: invalid value encountered in double_scalars\n",
            "  ret = ret.dtype.type(ret / rcount)\n"
          ]
        }
      ],
      "execution_count": 2,
      "metadata": {
        "collapsed": false,
        "outputHidden": false,
        "inputHidden": false
      }
    },
    {
      "cell_type": "code",
      "source": [
        "np.mean(outcomes == 1.0), np.mean(outcomes == 0.5),np.mean(outcomes == -1.0) ## win, draw, loss percentages"
      ],
      "outputs": [
        {
          "output_type": "execute_result",
          "execution_count": 3,
          "data": {
            "text/plain": [
              "(0.69, 0.09, 0.22)"
            ]
          },
          "metadata": {}
        }
      ],
      "execution_count": 3,
      "metadata": {
        "collapsed": false,
        "outputHidden": false,
        "inputHidden": false
      }
    },
    {
      "cell_type": "code",
      "source": [
        "np.mean(outcomes == 1.0)/np.mean(outcomes == -1.0) ## win-loss ratio"
      ],
      "outputs": [
        {
          "output_type": "execute_result",
          "execution_count": 4,
          "data": {
            "text/plain": [
              "3.1363636363636362"
            ]
          },
          "metadata": {}
        }
      ],
      "execution_count": 4,
      "metadata": {
        "collapsed": false,
        "outputHidden": false,
        "inputHidden": false
      }
    },
    {
      "cell_type": "markdown",
      "source": [
        "### When player B makes their first move randomly, there appears to be a distinct first mover advantage. "
      ],
      "metadata": {}
    },
    {
      "cell_type": "code",
      "source": [
        "player_combo = np.array([0.0,0.0])\n",
        "num_games = 100\n",
        "random_start = 0.0\n",
        "depth = 5\n",
        "gamma = 0.5\n",
        "\n_, outcomes = game_simulation(player_combo,num_games,random_start,depth,gamma)"
      ],
      "outputs": [],
      "execution_count": 5,
      "metadata": {
        "collapsed": false,
        "outputHidden": false,
        "inputHidden": false
      }
    },
    {
      "cell_type": "code",
      "source": [
        "np.mean(outcomes == 1.0), np.mean(outcomes == 0.5),np.mean(outcomes == -1.0) ## win, draw, loss percentages"
      ],
      "outputs": [
        {
          "output_type": "execute_result",
          "execution_count": 6,
          "data": {
            "text/plain": [
              "(0.36, 0.2, 0.44)"
            ]
          },
          "metadata": {}
        }
      ],
      "execution_count": 6,
      "metadata": {
        "collapsed": false,
        "outputHidden": false,
        "inputHidden": false
      }
    },
    {
      "cell_type": "code",
      "source": [
        "np.mean(outcomes == 1.0)/np.mean(outcomes == -1.0) ## win-loss ratio"
      ],
      "outputs": [
        {
          "output_type": "execute_result",
          "execution_count": 7,
          "data": {
            "text/plain": [
              "0.8181818181818181"
            ]
          },
          "metadata": {}
        }
      ],
      "execution_count": 7,
      "metadata": {
        "collapsed": false,
        "outputHidden": false,
        "inputHidden": false
      }
    },
    {
      "cell_type": "markdown",
      "source": [
        "### The first mover advantage disappears when the second player reacts in an appropriate manner. "
      ],
      "metadata": {}
    },
    {
      "cell_type": "markdown",
      "source": [
        "## 2. Analysing stochastic play via self-play: \n",
        "### a. Distribution of outcomes when second mover plays randomly\n",
        "### b. Distribution of outcomes when the second player is non-random"
      ],
      "metadata": {}
    },
    {
      "cell_type": "code",
      "source": [
        "player_combo = np.array([1.0,1.0])\n",
        "num_games = 100\n",
        "random_start = 1.0\n",
        "depth = 5\n",
        "gamma = 0.5\n",
        "\n_, outcomes = game_simulation(player_combo,num_games,random_start,depth,gamma)"
      ],
      "outputs": [],
      "execution_count": 2,
      "metadata": {
        "collapsed": false,
        "outputHidden": false,
        "inputHidden": false
      }
    },
    {
      "cell_type": "code",
      "source": [
        "np.mean(outcomes == 1.0), np.mean(outcomes == 0.5),np.mean(outcomes == -1.0) ## win, draw, loss percentages"
      ],
      "outputs": [
        {
          "output_type": "execute_result",
          "execution_count": 3,
          "data": {
            "text/plain": [
              "(0.82, 0.15, 0.03)"
            ]
          },
          "metadata": {}
        }
      ],
      "execution_count": 3,
      "metadata": {
        "collapsed": false,
        "outputHidden": false,
        "inputHidden": false
      }
    },
    {
      "cell_type": "code",
      "source": [
        "np.mean(outcomes == 1.0)/np.mean(outcomes == -1.0) ## win-loss ratio"
      ],
      "outputs": [
        {
          "output_type": "execute_result",
          "execution_count": 4,
          "data": {
            "text/plain": [
              "27.333333333333332"
            ]
          },
          "metadata": {}
        }
      ],
      "execution_count": 4,
      "metadata": {
        "collapsed": false,
        "outputHidden": false,
        "inputHidden": false
      }
    },
    {
      "cell_type": "markdown",
      "source": [
        "### As we will see later, stochastic player is a 'stronger player' than 'simple player' and here there is again empirical evidence for a first mover advantage. "
      ],
      "metadata": {}
    },
    {
      "cell_type": "code",
      "source": [
        "player_combo = np.array([1.0,1.0])\n",
        "num_games = 100\n",
        "random_start = 0.0\n",
        "depth = 5\n",
        "gamma = 0.5\n",
        "\n_, outcomes = game_simulation(player_combo,num_games,random_start,depth,gamma)"
      ],
      "outputs": [],
      "execution_count": 5,
      "metadata": {
        "collapsed": false,
        "outputHidden": false,
        "inputHidden": false
      }
    },
    {
      "cell_type": "code",
      "source": [
        "np.mean(outcomes == 1.0), np.mean(outcomes == 0.5),np.mean(outcomes == -1.0) ## win, draw, loss percentage"
      ],
      "outputs": [
        {
          "output_type": "execute_result",
          "execution_count": 6,
          "data": {
            "text/plain": [
              "(0.8, 0.18, 0.02)"
            ]
          },
          "metadata": {}
        }
      ],
      "execution_count": 6,
      "metadata": {
        "collapsed": false,
        "outputHidden": false,
        "inputHidden": false
      }
    },
    {
      "cell_type": "code",
      "source": [
        "np.mean(outcomes == 1.0)/np.mean(outcomes == -1.0) ## win-loss ratio "
      ],
      "outputs": [
        {
          "output_type": "execute_result",
          "execution_count": 7,
          "data": {
            "text/plain": [
              "40.0"
            ]
          },
          "metadata": {}
        }
      ],
      "execution_count": 7,
      "metadata": {
        "collapsed": false,
        "outputHidden": false,
        "inputHidden": false
      }
    },
    {
      "cell_type": "markdown",
      "source": [
        "### It appears that in the case of the stochastic player(which doesn't play perfectly) there is again a first-mover advantage even in situations\n",
        "### where the first move of player B is non-random. I suspect that this advantage would tend to zero as the strength of the second player approached\n",
        "### perfection. "
      ],
      "metadata": {}
    },
    {
      "cell_type": "markdown",
      "source": [
        "## 3. Stochastic player vs Simple player where stochastic player moves first:\n",
        "### a. Simple player's first move is random\n",
        "### b. Simple player's first move is non-random"
      ],
      "metadata": {}
    },
    {
      "cell_type": "code",
      "source": [
        "player_combo = np.array([1.0,0.0])\n",
        "num_games = 100\n",
        "random_start = 1.0\n",
        "depth = 5\n",
        "gamma = 0.5\n",
        "\n_, outcomes = game_simulation(player_combo,num_games,random_start,depth,gamma)"
      ],
      "outputs": [],
      "execution_count": 3,
      "metadata": {
        "collapsed": false,
        "outputHidden": false,
        "inputHidden": false
      }
    },
    {
      "cell_type": "code",
      "source": [
        "np.mean(outcomes == 1.0), np.mean(outcomes == 0.5),np.mean(outcomes == -1.0) ## win, draw, loss percentage"
      ],
      "outputs": [
        {
          "output_type": "execute_result",
          "execution_count": 4,
          "data": {
            "text/plain": [
              "(0.66, 0.27, 0.07)"
            ]
          },
          "metadata": {}
        }
      ],
      "execution_count": 4,
      "metadata": {
        "collapsed": false,
        "outputHidden": false,
        "inputHidden": false
      }
    },
    {
      "cell_type": "code",
      "source": [
        "np.mean(outcomes == 1.0)/np.mean(outcomes == -1.0) ## win-loss ratio"
      ],
      "outputs": [
        {
          "output_type": "execute_result",
          "execution_count": 5,
          "data": {
            "text/plain": [
              "9.428571428571429"
            ]
          },
          "metadata": {}
        }
      ],
      "execution_count": 5,
      "metadata": {
        "collapsed": false,
        "outputHidden": false,
        "inputHidden": false
      }
    },
    {
      "cell_type": "markdown",
      "source": [
        "### There's a clear first-mover advantage but it's less remarkable than the case where simple player or stochastic player plays against itself. They say that styles make fights but neither of these players are making an effort to adapt to each other so I suspect that there would be a similar ratio if the setup was reversed i.e. Simple player moved first. "
      ],
      "metadata": {}
    },
    {
      "cell_type": "code",
      "source": [
        "player_combo = np.array([1.0,0.0])\n",
        "num_games = 100\n",
        "random_start = 0.0\n",
        "depth = 5\n",
        "gamma = 0.5\n",
        "\n_, outcomes = game_simulation(player_combo,num_games,random_start,depth,gamma)"
      ],
      "outputs": [],
      "execution_count": 6,
      "metadata": {
        "collapsed": false,
        "outputHidden": false,
        "inputHidden": false
      }
    },
    {
      "cell_type": "code",
      "source": [
        "np.mean(outcomes == 1.0), np.mean(outcomes == 0.5),np.mean(outcomes == -1.0) ## win, draw, loss percentage"
      ],
      "outputs": [
        {
          "output_type": "execute_result",
          "execution_count": 7,
          "data": {
            "text/plain": [
              "(0.65, 0.23, 0.12)"
            ]
          },
          "metadata": {}
        }
      ],
      "execution_count": 7,
      "metadata": {
        "collapsed": false,
        "outputHidden": false,
        "inputHidden": false
      }
    },
    {
      "cell_type": "code",
      "source": [
        "np.mean(outcomes == 1.0)/np.mean(outcomes == -1.0) ## win-loss ratio"
      ],
      "outputs": [
        {
          "output_type": "execute_result",
          "execution_count": 8,
          "data": {
            "text/plain": [
              "5.416666666666667"
            ]
          },
          "metadata": {}
        }
      ],
      "execution_count": 8,
      "metadata": {
        "collapsed": false,
        "outputHidden": false,
        "inputHidden": false
      }
    },
    {
      "cell_type": "markdown",
      "source": [
        "### Stochastic player still performs well without an unfair advantage but the difference is much less remarkable. Let's see what happens when the situation is reversed. "
      ],
      "metadata": {}
    },
    {
      "cell_type": "markdown",
      "source": [
        "## 4. Simple player vs Stochastic player where simple player moves first:\n",
        "### a. Stochastic player's first move is random\n",
        "### b. Stochastic player's first move is non-random"
      ],
      "metadata": {}
    },
    {
      "cell_type": "code",
      "source": [
        "player_combo = np.array([0.0,1.0])\n",
        "num_games = 100\n",
        "random_start = 1.0\n",
        "depth = 5\n",
        "gamma = 0.5\n",
        "\n_, outcomes = game_simulation(player_combo,num_games,random_start,depth,gamma)"
      ],
      "outputs": [
        {
          "output_type": "stream",
          "name": "stderr",
          "text": [
            "/Users/aidanrockea/anaconda/lib/python3.6/site-packages/numpy/core/fromnumeric.py:2957: RuntimeWarning: Mean of empty slice.\n",
            "  out=out, **kwargs)\n",
            "/Users/aidanrockea/anaconda/lib/python3.6/site-packages/numpy/core/_methods.py:80: RuntimeWarning: invalid value encountered in double_scalars\n",
            "  ret = ret.dtype.type(ret / rcount)\n"
          ]
        }
      ],
      "execution_count": 9,
      "metadata": {
        "collapsed": false,
        "outputHidden": false,
        "inputHidden": false
      }
    },
    {
      "cell_type": "code",
      "source": [
        "np.mean(outcomes == 1.0), np.mean(outcomes == 0.5),np.mean(outcomes == -1.0) ## win, draw, loss percentage"
      ],
      "outputs": [
        {
          "output_type": "execute_result",
          "execution_count": 10,
          "data": {
            "text/plain": [
              "(0.65, 0.31, 0.04)"
            ]
          },
          "metadata": {}
        }
      ],
      "execution_count": 10,
      "metadata": {
        "collapsed": false,
        "outputHidden": false,
        "inputHidden": false
      }
    },
    {
      "cell_type": "code",
      "source": [
        "np.mean(outcomes == 1.0)/np.mean(outcomes == -1.0) ## win-loss ratio"
      ],
      "outputs": [
        {
          "output_type": "execute_result",
          "execution_count": 11,
          "data": {
            "text/plain": [
              "16.25"
            ]
          },
          "metadata": {}
        }
      ],
      "execution_count": 11,
      "metadata": {
        "collapsed": false,
        "outputHidden": false,
        "inputHidden": false
      }
    },
    {
      "cell_type": "markdown",
      "source": [
        "### Interestingly, the first-mover advantage here is much more evident than in the situation where stochastic player moved first against simple player. It might be that Stochastic player is somehow weaker. "
      ],
      "metadata": {}
    },
    {
      "cell_type": "code",
      "source": [
        "player_combo = np.array([0.0,1.0])\n",
        "num_games = 100\n",
        "random_start = 0.0\n",
        "depth = 5\n",
        "gamma = 0.5\n",
        "\n_, outcomes = game_simulation(player_combo,num_games,random_start,depth,gamma)"
      ],
      "outputs": [
        {
          "output_type": "stream",
          "name": "stderr",
          "text": [
            "/Users/aidanrockea/anaconda/lib/python3.6/site-packages/numpy/core/fromnumeric.py:2957: RuntimeWarning: Mean of empty slice.\n",
            "  out=out, **kwargs)\n",
            "/Users/aidanrockea/anaconda/lib/python3.6/site-packages/numpy/core/_methods.py:80: RuntimeWarning: invalid value encountered in double_scalars\n",
            "  ret = ret.dtype.type(ret / rcount)\n"
          ]
        }
      ],
      "execution_count": 12,
      "metadata": {
        "collapsed": false,
        "outputHidden": false,
        "inputHidden": false
      }
    },
    {
      "cell_type": "code",
      "source": [
        "np.mean(outcomes == 1.0), np.mean(outcomes == 0.5),np.mean(outcomes == -1.0) ## win, draw, loss percentage"
      ],
      "outputs": [
        {
          "output_type": "execute_result",
          "execution_count": 13,
          "data": {
            "text/plain": [
              "(0.68, 0.32, 0.0)"
            ]
          },
          "metadata": {}
        }
      ],
      "execution_count": 13,
      "metadata": {
        "collapsed": false,
        "outputHidden": false,
        "inputHidden": false
      }
    },
    {
      "cell_type": "code",
      "source": [
        "np.mean(outcomes == 1.0)/np.mean(outcomes == -1.0) ## win-loss ratio"
      ],
      "outputs": [
        {
          "output_type": "stream",
          "name": "stderr",
          "text": [
            "/Users/aidanrockea/anaconda/lib/python3.6/site-packages/ipykernel_launcher.py:1: RuntimeWarning: divide by zero encountered in double_scalars\n",
            "  \"\"\"Entry point for launching an IPython kernel.\n"
          ]
        },
        {
          "output_type": "execute_result",
          "execution_count": 14,
          "data": {
            "text/plain": [
              "inf"
            ]
          },
          "metadata": {}
        }
      ],
      "execution_count": 14,
      "metadata": {
        "collapsed": false,
        "outputHidden": false,
        "inputHidden": false
      }
    }
  ],
  "metadata": {
    "kernel_info": {
      "name": "python3"
    },
    "kernelspec": {
      "name": "python3",
      "language": "python",
      "display_name": "Python 3"
    },
    "language_info": {
      "name": "python",
      "version": "3.6.1",
      "mimetype": "text/x-python",
      "codemirror_mode": {
        "name": "ipython",
        "version": 3
      },
      "pygments_lexer": "ipython3",
      "nbconvert_exporter": "python",
      "file_extension": ".py"
    },
    "nteract": {
      "version": "0.8.4"
    }
  },
  "nbformat": 4,
  "nbformat_minor": 4
}